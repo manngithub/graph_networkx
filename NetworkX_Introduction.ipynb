{
 "cells": [
  {
   "cell_type": "markdown",
   "metadata": {},
   "source": [
    "# Course: Introduction to Network Analysis in Python\n",
    "These notes are taken from DataCamp course. You will learn:\n",
    "* Basics of networks and network analysis\n",
    "* How to find important nodes\n",
    "* How to identify communities of nodes\n",
    "* How to use networkx and nxviz packages\n",
    "* How to write network algorithms\n",
    "\n",
    "## Chapter 1: Introduction to Networks"
   ]
  },
  {
   "cell_type": "code",
   "execution_count": 1,
   "metadata": {},
   "outputs": [],
   "source": [
    "import networkx as nx\n",
    "import matplotlib.pyplot as plt"
   ]
  },
  {
   "cell_type": "code",
   "execution_count": 2,
   "metadata": {},
   "outputs": [],
   "source": [
    "G = nx.Graph() # define empty graph"
   ]
  },
  {
   "cell_type": "code",
   "execution_count": 3,
   "metadata": {},
   "outputs": [],
   "source": [
    "G.add_nodes_from([1,2,3,4,5,6,7,8,9]) # add nodes from list"
   ]
  },
  {
   "cell_type": "code",
   "execution_count": 4,
   "metadata": {},
   "outputs": [
    {
     "data": {
      "text/plain": [
       "NodeView((1, 2, 3, 4, 5, 6, 7, 8, 9))"
      ]
     },
     "execution_count": 4,
     "metadata": {},
     "output_type": "execute_result"
    }
   ],
   "source": [
    "G.nodes() # this will give list of nodes\n",
    "# this will show you size of the network\n",
    "# len(G.nodes())\n",
    "\n",
    "# you can list the nodes as\n",
    "# list(G.nodes())"
   ]
  },
  {
   "cell_type": "code",
   "execution_count": 5,
   "metadata": {},
   "outputs": [],
   "source": [
    "G.add_edge(1,2) # add edge between nodes 1 and 2\n",
    "G.add_edge(1,3)\n",
    "G.add_edge(3,5)\n",
    "G.add_edge(2,3)\n",
    "G.add_edge(2,5)\n",
    "G.add_edge(7,3)\n",
    "G.add_edge(7,5)"
   ]
  },
  {
   "cell_type": "code",
   "execution_count": 6,
   "metadata": {},
   "outputs": [
    {
     "data": {
      "text/plain": [
       "EdgeView([(1, 2), (1, 3), (2, 3), (2, 5), (3, 5), (3, 7), (5, 7)])"
      ]
     },
     "execution_count": 6,
     "metadata": {},
     "output_type": "execute_result"
    }
   ],
   "source": [
    "G.edges() # this will give tuples of edges: each tuple shows the nodes that are connected through the edge"
   ]
  },
  {
   "cell_type": "code",
   "execution_count": 7,
   "metadata": {},
   "outputs": [
    {
     "data": {
      "text/plain": [
       "NodeDataView({1: {'label': 'blue'}, 2: {}, 3: {}, 4: {}, 5: {}, 6: {}, 7: {}, 8: {}, 9: {}})"
      ]
     },
     "execution_count": 7,
     "metadata": {},
     "output_type": "execute_result"
    }
   ],
   "source": [
    "# Metadata can be stored on the graph as well, like dictionary\n",
    "G.node[1]['label'] = 'blue'\n",
    "G.nodes(data=True)\n",
    "# Recall that passing in the keyword argument data=True in these methods retrieves the corresponding metadata associated with the nodes and edges as well."
   ]
  },
  {
   "cell_type": "raw",
   "metadata": {},
   "source": [
    "here first element is the name of the node and second element is dictionary with properties"
   ]
  },
  {
   "cell_type": "code",
   "execution_count": 8,
   "metadata": {},
   "outputs": [
    {
     "data": {
      "image/png": "[encoded data removed]",
      "text/plain": [
       "<Figure size 432x288 with 1 Axes>"
      ]
     },
     "metadata": {},
     "output_type": "display_data"
    }
   ],
   "source": [
    "# draw the graph\n",
    "nx.draw(G)\n",
    "plt.show()"
   ]
  },
  {
   "cell_type": "code",
   "execution_count": 9,
   "metadata": {},
   "outputs": [
    {
     "data": {
      "text/plain": [
       "NodeDataView({1: {'label': 'blue'}, 2: {}, 3: {}, 4: {}, 5: {}, 6: {}, 7: {}, 8: {}, 9: {}})"
      ]
     },
     "execution_count": 9,
     "metadata": {},
     "output_type": "execute_result"
    }
   ],
   "source": [
    "G.nodes(data=True)"
   ]
  },
  {
   "cell_type": "code",
   "execution_count": 10,
   "metadata": {},
   "outputs": [
    {
     "data": {
      "text/plain": [
       "EdgeDataView([(1, 2, {}), (1, 3, {}), (2, 3, {}), (2, 5, {}), (3, 5, {}), (3, 7, {}), (5, 7, {})])"
      ]
     },
     "execution_count": 10,
     "metadata": {},
     "output_type": "execute_result"
    }
   ],
   "source": [
    "G.edges(data=True)"
   ]
  },
  {
   "cell_type": "code",
   "execution_count": 11,
   "metadata": {},
   "outputs": [
    {
     "data": {
      "text/plain": [
       "{}"
      ]
     },
     "execution_count": 11,
     "metadata": {},
     "output_type": "execute_result"
    }
   ],
   "source": [
    "# edge properties\n",
    "G.edges[1,2] #[node1, node2]"
   ]
  },
  {
   "cell_type": "code",
   "execution_count": 12,
   "metadata": {},
   "outputs": [
    {
     "data": {
      "text/plain": [
       "EdgeDataView([(1, 2, {'property': 'new'}), (1, 3, {}), (2, 3, {}), (2, 5, {}), (3, 5, {}), (3, 7, {}), (5, 7, {})])"
      ]
     },
     "execution_count": 12,
     "metadata": {},
     "output_type": "execute_result"
    }
   ],
   "source": [
    "G.edges[1,2]['property'] = 'new'\n",
    "G.edges(data=True)"
   ]
  },
  {
   "cell_type": "raw",
   "metadata": {},
   "source": [
    "Types of Graph:\n",
    "* Undirected. Example - facebook (connection happens when both nodes are friends)\n",
    "    * G = nx.Graph()\n",
    "* Directed. Example - twitter (one node follow other node but may not be other way)\n",
    "    * D = nx.DiGraph()\n",
    "* Multi(Di)Graph: Example - trip records between bike sharing stations\n",
    "    * M = nx.MultiGraph() # undirected\n",
    "    * MD = nx.MultiDiGraph() # directed\n",
    "* Self-loops: nodes that are connected to themselves\n",
    "    "
   ]
  },
  {
   "cell_type": "code",
   "execution_count": 13,
   "metadata": {},
   "outputs": [
    {
     "data": {
      "text/plain": [
       "EdgeView([(1, 2), (1, 3), (2, 3), (2, 5), (3, 5), (3, 7), (5, 7)])"
      ]
     },
     "execution_count": 13,
     "metadata": {},
     "output_type": "execute_result"
    }
   ],
   "source": [
    "G.edges()"
   ]
  },
  {
   "cell_type": "code",
   "execution_count": 14,
   "metadata": {},
   "outputs": [
    {
     "data": {
      "text/plain": [
       "EdgeDataView([(1, 2, {'property': 'new'}), (1, 3, {}), (2, 3, {}), (2, 5, {}), (3, 5, {}), (3, 7, {}), (5, 7, {})])"
      ]
     },
     "execution_count": 14,
     "metadata": {},
     "output_type": "execute_result"
    }
   ],
   "source": [
    "G.edges(data=True)"
   ]
  },
  {
   "cell_type": "code",
   "execution_count": 15,
   "metadata": {},
   "outputs": [
    {
     "data": {
      "text/plain": [
       "{'property': 'new'}"
      ]
     },
     "execution_count": 15,
     "metadata": {},
     "output_type": "execute_result"
    }
   ],
   "source": [
    "G.edges[1,2]"
   ]
  },
  {
   "cell_type": "markdown",
   "metadata": {},
   "source": [
    "## Network Visualiztion\n",
    "* Matrix Plots\n",
    "* Arc Plots\n",
    "* Circos Plots\n",
    "\n",
    "<img src = 'network_viz.png' style = \"width:500px;height:220px\"/>\n"
   ]
  },
  {
   "cell_type": "code",
   "execution_count": 16,
   "metadata": {},
   "outputs": [],
   "source": [
    "import nxviz as nv\n",
    "import matplotlib.pyplot as plt"
   ]
  },
  {
   "cell_type": "code",
   "execution_count": 17,
   "metadata": {},
   "outputs": [],
   "source": [
    "# mp = nv.MatrixPlot(G) # matrix plot\n",
    "# ap = nv.ArcPlot(G) # arc plot\n",
    "# ap_customized = nv.ArcPlot(G, node_order='category', node_color='category') # 'category' is one feature of the node\n",
    "# cp = nv.CircosPlot(G) # circos plot\n",
    "# ap.draw()\n",
    "# plt.show()"
   ]
  },
  {
   "cell_type": "code",
   "execution_count": 18,
   "metadata": {},
   "outputs": [],
   "source": [
    "# convert Graph to matrix\n",
    "A = nx.to_numpy_matrix(G)\n",
    "\n",
    "# Convert A back to the NetworkX form as a directed graph: G_conv\n",
    "G_conv = nx.from_numpy_matrix(A, create_using=nx.DiGraph())\n",
    "plt.show()"
   ]
  },
  {
   "cell_type": "code",
   "execution_count": null,
   "metadata": {},
   "outputs": [],
   "source": []
  },
  {
   "cell_type": "markdown",
   "metadata": {},
   "source": [
    "## Chapter 2: Important Nodes\n",
    "* Degree Centrality\n",
    "    * degree centrality of node X = no. of neighbors that node X have / no. of neighbors that node X could possibly have\n",
    "    * we don't need the whole Graph (with its connections) to calculate degree centrality\n",
    "        \n",
    "* Betweenness Centrality\n",
    "    * Betweenness centrality is a node importance metric that uses information about the shortest paths in a network. It is defined as the fraction of all possible shortest paths between any pair of nodes that pass through the node.\n",
    "    * we need the whole Graph (with its connections) to calculate betweenness centrality\n",
    "        \n",
    "        "
   ]
  },
  {
   "cell_type": "code",
   "execution_count": 19,
   "metadata": {},
   "outputs": [
    {
     "data": {
      "text/plain": [
       "EdgeView([(1, 2), (1, 3), (2, 3), (2, 5), (3, 5), (3, 7), (5, 7)])"
      ]
     },
     "execution_count": 19,
     "metadata": {},
     "output_type": "execute_result"
    }
   ],
   "source": [
    "G.edges()"
   ]
  },
  {
   "cell_type": "code",
   "execution_count": 20,
   "metadata": {},
   "outputs": [
    {
     "data": {
      "text/plain": [
       "[2, 3]"
      ]
     },
     "execution_count": 20,
     "metadata": {},
     "output_type": "execute_result"
    }
   ],
   "source": [
    "list(G.neighbors(1)) # neighbors of node 1"
   ]
  },
  {
   "cell_type": "code",
   "execution_count": 21,
   "metadata": {},
   "outputs": [
    {
     "data": {
      "text/plain": [
       "{1: 0.25, 2: 0.375, 3: 0.5, 4: 0.0, 5: 0.375, 6: 0.0, 7: 0.25, 8: 0.0, 9: 0.0}"
      ]
     },
     "execution_count": 21,
     "metadata": {},
     "output_type": "execute_result"
    }
   ],
   "source": [
    "# degree centrality\n",
    "nx.degree_centrality(G)\n",
    "# note that self loops are not considered in degree centrality"
   ]
  },
  {
   "cell_type": "code",
   "execution_count": 22,
   "metadata": {},
   "outputs": [
    {
     "data": {
      "text/plain": [
       "{1: 0.0,\n",
       " 2: 0.017857142857142856,\n",
       " 3: 0.07142857142857142,\n",
       " 4: 0.0,\n",
       " 5: 0.017857142857142856,\n",
       " 6: 0.0,\n",
       " 7: 0.0,\n",
       " 8: 0.0,\n",
       " 9: 0.0}"
      ]
     },
     "execution_count": 22,
     "metadata": {},
     "output_type": "execute_result"
    }
   ],
   "source": [
    "# betweenness centrality\n",
    "nx.betweenness_centrality(G)"
   ]
  },
  {
   "cell_type": "code",
   "execution_count": 23,
   "metadata": {},
   "outputs": [
    {
     "data": {
      "image/png": "[encoded data removed]",
      "text/plain": [
       "<Figure size 432x288 with 1 Axes>"
      ]
     },
     "metadata": {},
     "output_type": "display_data"
    }
   ],
   "source": [
    "# e.g. \n",
    "exampleG = nx.barbell_graph(m1 = 5, m2 =1)\n",
    "nx.draw(exampleG)"
   ]
  },
  {
   "cell_type": "code",
   "execution_count": 24,
   "metadata": {},
   "outputs": [
    {
     "data": {
      "text/plain": [
       "{0: 0.0,\n",
       " 1: 0.0,\n",
       " 2: 0.0,\n",
       " 3: 0.0,\n",
       " 4: 0.5333333333333333,\n",
       " 6: 0.5333333333333333,\n",
       " 7: 0.0,\n",
       " 8: 0.0,\n",
       " 9: 0.0,\n",
       " 10: 0.0,\n",
       " 5: 0.5555555555555556}"
      ]
     },
     "execution_count": 24,
     "metadata": {},
     "output_type": "execute_result"
    }
   ],
   "source": [
    "nx.betweenness_centrality(exampleG)"
   ]
  },
  {
   "cell_type": "markdown",
   "metadata": {},
   "source": [
    "### Graph Algorithms\n",
    "    * Shortest path (optimization)\n",
    "    * Disease spread, information spread (modeling)\n",
    "    \n",
    "* Breadth-first search algorithm (BFS)\n"
   ]
  },
  {
   "cell_type": "code",
   "execution_count": 25,
   "metadata": {},
   "outputs": [
    {
     "name": "stdout",
     "output_type": "stream",
     "text": [
      "Path exists between nodes 2 and 7\n"
     ]
    },
    {
     "data": {
      "text/plain": [
       "True"
      ]
     },
     "execution_count": 25,
     "metadata": {},
     "output_type": "execute_result"
    }
   ],
   "source": [
    "def path_exists(G, node1, node2):\n",
    "    \"\"\"\n",
    "    This function checks whether a path exists between two nodes (node1, node2) in graph G.\n",
    "    \"\"\"\n",
    "    visited_nodes = set()\n",
    "    queue = [node1]\n",
    "\n",
    "    for node in queue:\n",
    "        neighbors = list(G.neighbors(node))\n",
    "        if node2 in neighbors:\n",
    "            print('Path exists between nodes {0} and {1}'.format(node1, node2))\n",
    "            return True\n",
    "            break\n",
    "\n",
    "        else:\n",
    "            visited_nodes.add(node)\n",
    "            queue.extend([n for n in neighbors if n not in visited_nodes])\n",
    "\n",
    "        # Check to see if the final element of the queue has been reached\n",
    "        if node == queue[-1]:\n",
    "            print('Path again does not exist between nodes {0} and {1}'.format(node1, node2))\n",
    "\n",
    "            # Place the appropriate return statement\n",
    "            return False\n",
    "\n",
    "path_exists(G,2,7)"
   ]
  },
  {
   "cell_type": "code",
   "execution_count": 26,
   "metadata": {},
   "outputs": [
    {
     "data": {
      "text/plain": [
       "([1, 3, 5], [1, 5, 2, 7])"
      ]
     },
     "execution_count": 26,
     "metadata": {},
     "output_type": "execute_result"
    }
   ],
   "source": [
    "list(G.neighbors(2)), list(G.neighbors(3))"
   ]
  },
  {
   "cell_type": "code",
   "execution_count": 27,
   "metadata": {},
   "outputs": [
    {
     "data": {
      "text/plain": [
       "EdgeView([(1, 2), (1, 3), (2, 3), (2, 5), (3, 5), (3, 7), (5, 7)])"
      ]
     },
     "execution_count": 27,
     "metadata": {},
     "output_type": "execute_result"
    }
   ],
   "source": [
    "G.edges()"
   ]
  },
  {
   "cell_type": "code",
   "execution_count": 28,
   "metadata": {},
   "outputs": [
    {
     "name": "stdout",
     "output_type": "stream",
     "text": [
      "Path exists between nodes 2 and 7\n"
     ]
    },
    {
     "data": {
      "text/plain": [
       "True"
      ]
     },
     "execution_count": 28,
     "metadata": {},
     "output_type": "execute_result"
    }
   ],
   "source": [
    "path_exists(G,2,7)"
   ]
  },
  {
   "cell_type": "code",
   "execution_count": 29,
   "metadata": {},
   "outputs": [
    {
     "data": {
      "image/png": "[encoded data removed]",
      "text/plain": [
       "<Figure size 432x288 with 1 Axes>"
      ]
     },
     "metadata": {},
     "output_type": "display_data"
    }
   ],
   "source": [
    "nx.draw(G)\n",
    "plt.show()"
   ]
  },
  {
   "cell_type": "markdown",
   "metadata": {},
   "source": [
    "## Chapter 3: Structures\n",
    "### Communities & Cliques"
   ]
  },
  {
   "cell_type": "code",
   "execution_count": 30,
   "metadata": {},
   "outputs": [],
   "source": [
    "# social clique: tightly-knit groups\n",
    "# network clique: completely connected graphs"
   ]
  },
  {
   "cell_type": "code",
   "execution_count": 31,
   "metadata": {},
   "outputs": [
    {
     "data": {
      "text/plain": [
       "True"
      ]
     },
     "execution_count": 31,
     "metadata": {},
     "output_type": "execute_result"
    }
   ],
   "source": [
    "# to check whether node x1 and node x2 are connected?\n",
    "x1, x2 = 1, 3\n",
    "G.has_edge(x1, x2)"
   ]
  },
  {
   "cell_type": "code",
   "execution_count": 32,
   "metadata": {},
   "outputs": [
    {
     "data": {
      "text/plain": [
       "True"
      ]
     },
     "execution_count": 32,
     "metadata": {},
     "output_type": "execute_result"
    }
   ],
   "source": [
    "# Identify triangle relationship\n",
    "from itertools import combinations\n",
    "\n",
    "# Define is_in_triangle()\n",
    "def is_in_triangle(G, n):\n",
    "    \"\"\"\n",
    "    Checks whether a node `n` in graph `G` is in a triangle relationship or not.\n",
    "\n",
    "    Returns a boolean.\n",
    "    \"\"\"\n",
    "    in_triangle = False\n",
    "\n",
    "    # Iterate over all possible triangle relationship combinations\n",
    "    for n1, n2 in combinations(G.neighbors(n), 2):\n",
    "\n",
    "        # Check if an edge exists between n1 and n2\n",
    "        if G.has_edge(n1, n2):\n",
    "            in_triangle = True\n",
    "            break\n",
    "    return in_triangle\n",
    "\n",
    "is_in_triangle(G, 1)"
   ]
  },
  {
   "cell_type": "code",
   "execution_count": 33,
   "metadata": {},
   "outputs": [
    {
     "data": {
      "text/plain": [
       "{1, 2, 3}"
      ]
     },
     "execution_count": 33,
     "metadata": {},
     "output_type": "execute_result"
    }
   ],
   "source": [
    "# Finding nodes involved in triangles\n",
    "def nodes_in_triangle(G, n):\n",
    "    \"\"\"\n",
    "    Returns the nodes in a graph `G` that are involved in a triangle relationship with the node `n`.\n",
    "    \"\"\"\n",
    "    triangle_nodes = set([n])\n",
    "\n",
    "    # Iterate over all possible triangle relationship combinations\n",
    "    for n1, n2 in combinations(G.neighbors(n), 2):\n",
    "\n",
    "        # Check if n1 and n2 have an edge between them\n",
    "        if G.has_edge(n1, n2):\n",
    "\n",
    "            # Add n1 to triangle_nodes\n",
    "            triangle_nodes.add(n1)\n",
    "\n",
    "            # Add n2 to triangle_nodes\n",
    "            triangle_nodes.add(n2)\n",
    "\n",
    "    return triangle_nodes\n",
    "\n",
    "nodes_in_triangle(G, 1)"
   ]
  },
  {
   "cell_type": "code",
   "execution_count": 34,
   "metadata": {},
   "outputs": [
    {
     "name": "stdout",
     "output_type": "stream",
     "text": [
      "3\n"
     ]
    }
   ],
   "source": [
    "# Finding open triangles: Recall that they form the basis of friend recommendation \n",
    "# systems; if \"A\" knows \"B\" and \"A\" knows \"C\", then it's probable that \"B\" also knows \"C\".\n",
    "\n",
    "def node_in_open_triangle(G, n):\n",
    "    \"\"\"\n",
    "    Checks whether pairs of neighbors of node `n` in graph `G` are in an 'open triangle' relationship with node `n`.\n",
    "    \"\"\"\n",
    "    in_open_triangle = False\n",
    "\n",
    "    # Iterate over all possible triangle relationship combinations\n",
    "    for n1, n2 in combinations(G.neighbors(n), 2):\n",
    "\n",
    "        # Check if n1 and n2 do NOT have an edge between them\n",
    "        if not G.has_edge(n1, n2):\n",
    "\n",
    "            in_open_triangle = True\n",
    "\n",
    "            break\n",
    "\n",
    "    return in_open_triangle\n",
    "\n",
    "# Compute the number of open triangles in T\n",
    "num_open_triangles = 0\n",
    "\n",
    "# Iterate over all the nodes in T\n",
    "for n in G.nodes():\n",
    "\n",
    "    # Check if the current node is in an open triangle\n",
    "    if node_in_open_triangle(G, n):\n",
    "\n",
    "        # Increment num_open_triangles\n",
    "        num_open_triangles += 1\n",
    "\n",
    "print(num_open_triangles)\n"
   ]
  },
  {
   "cell_type": "code",
   "execution_count": 35,
   "metadata": {},
   "outputs": [
    {
     "data": {
      "text/plain": [
       "[[3, 2, 1], [3, 2, 5], [3, 7, 5]]"
      ]
     },
     "execution_count": 35,
     "metadata": {},
     "output_type": "execute_result"
    }
   ],
   "source": [
    "# Maximum Cliques\n",
    "\n",
    "# Define maximal_cliques()\n",
    "def maximal_cliques(G, size):\n",
    "    \"\"\"\n",
    "    Finds all maximal cliques in graph `G` that are of size `size`.\n",
    "    \"\"\"\n",
    "    mcs = []\n",
    "    for clique in nx.find_cliques(G):\n",
    "        if len(clique) == size:\n",
    "            mcs.append(clique)\n",
    "    return mcs\n",
    "\n",
    "maximal_cliques(G, 3)"
   ]
  },
  {
   "cell_type": "code",
   "execution_count": 36,
   "metadata": {},
   "outputs": [
    {
     "data": {
      "text/plain": [
       "NodeView((0, 1, 2, 3, 4, 5, 6, 7, 8, 9, 10, 11, 12, 13, 14, 15, 16, 17, 18, 19))"
      ]
     },
     "execution_count": 36,
     "metadata": {},
     "output_type": "execute_result"
    }
   ],
   "source": [
    "# Subgraph\n",
    "\n",
    "# generate a graph\n",
    "G = nx.erdos_renyi_graph(n = 20, p = 0.2) # p = probability that edge exists between a pair of nodes, n = no. of nodes in the graph\n",
    "G.nodes()"
   ]
  },
  {
   "cell_type": "code",
   "execution_count": 37,
   "metadata": {},
   "outputs": [],
   "source": [
    "# create subgraph of node m with its neighbors\n",
    "m = 9\n",
    "nodes = list(G.neighbors(m))\n",
    "# keep node m in the list of its neighbors\n",
    "nodes.append(m)"
   ]
  },
  {
   "cell_type": "code",
   "execution_count": 38,
   "metadata": {},
   "outputs": [
    {
     "data": {
      "text/plain": [
       "EdgeView([(9, 11), (9, 12), (9, 14)])"
      ]
     },
     "execution_count": 38,
     "metadata": {},
     "output_type": "execute_result"
    }
   ],
   "source": [
    "G_m = G.subgraph(nodes)\n",
    "G_m.edges()"
   ]
  },
  {
   "cell_type": "code",
   "execution_count": 39,
   "metadata": {},
   "outputs": [
    {
     "name": "stdout",
     "output_type": "stream",
     "text": [
      "<class 'networkx.classes.graph.Graph'> <class 'networkx.classes.graph.Graph'>\n"
     ]
    }
   ],
   "source": [
    "print(type(G), type(G_m))"
   ]
  },
  {
   "cell_type": "markdown",
   "metadata": {},
   "source": [
    "## Chapter 4: Case study"
   ]
  },
  {
   "cell_type": "code",
   "execution_count": 40,
   "metadata": {},
   "outputs": [
    {
     "data": {
      "image/png": "[encoded data removed]",
      "text/plain": [
       "<Figure size 432x432 with 1 Axes>"
      ]
     },
     "metadata": {
      "needs_background": "light"
     },
     "output_type": "display_data"
    }
   ],
   "source": [
    "# Characterizing editing communities:\n",
    "# You're now going to combine what you've learned about the BFS algorithm and concept of maximal cliques to visualize the network with an ArcPlot.\n",
    "\n",
    "# Import necessary modules\n",
    "from nxviz import ArcPlot\n",
    "import matplotlib.pyplot as plt\n",
    "\n",
    "# Identify the largest maximal clique: largest_max_clique\n",
    "largest_max_clique = set(sorted(nx.find_cliques(G), key=lambda x: len(x))[-1])\n",
    "\n",
    "# Create a subgraph from the largest_max_clique: G_lmc\n",
    "G_lmc = G.subgraph(largest_max_clique).copy()\n",
    "# Note that for NetworkX version 2.x and later, G.subgraph(nodelist) returns only an immutable view on the original graph. \n",
    "# We must explicitly ask for a .copy() of the graph to obtain a mutatable version.\n",
    "\n",
    "# Go out 1 degree of separation\n",
    "for node in list(G_lmc.nodes()):\n",
    "    G_lmc.add_nodes_from(G.neighbors(node))\n",
    "    G_lmc.add_edges_from(zip([node]*len(list(G.neighbors(node))), G.neighbors(node)))\n",
    "\n",
    "# Record each node's degree centrality score\n",
    "for n in G_lmc.nodes():\n",
    "    G_lmc.node[n]['degree centrality'] = nx.degree_centrality(G_lmc)[n]\n",
    "\n",
    "# Create the ArcPlot object: a\n",
    "a = ArcPlot(G_lmc, node_order='degree centrality')\n",
    "\n",
    "# Draw the ArcPlot to the screen\n",
    "a.draw()\n",
    "plt.show()"
   ]
  },
  {
   "cell_type": "code",
   "execution_count": 41,
   "metadata": {},
   "outputs": [
    {
     "name": "stdout",
     "output_type": "stream",
     "text": [
      "[(16, 18), (12, 14)]\n"
     ]
    }
   ],
   "source": [
    "# Recommending co-editors who have yet to edit together\n",
    "\n",
    "# Import necessary modules\n",
    "from itertools import combinations\n",
    "from collections import defaultdict\n",
    "\n",
    "# Initialize the defaultdict: recommended\n",
    "# TIP:\n",
    "# regular dictionary will give error if some key is not present \n",
    "# defaultdict won't give error if key is not present; it will just creat default value 0 for that key. \n",
    "recommended = defaultdict(int)\n",
    "\n",
    "# Iterate over all the nodes in G\n",
    "for n, d in G.nodes(data=True):\n",
    "\n",
    "    # Iterate over all possible triangle relationship combinations\n",
    "    for n1, n2 in combinations(G.neighbors(n), 2):\n",
    "\n",
    "        # Check whether n1 and n2 do not have an edge\n",
    "        if not G.has_edge(n1, n2):\n",
    "\n",
    "            # Increment recommended\n",
    "            recommended[(n1, n2)] += 1\n",
    "\n",
    "# Identify the top 10 pairs of users\n",
    "all_counts = sorted(recommended.values())\n",
    "top10_pairs = [pair for pair, count in recommended.items() if count > all_counts[-10]]\n",
    "print(top10_pairs)\n"
   ]
  },
  {
   "cell_type": "markdown",
   "metadata": {},
   "source": [
    "# Course: Intermediate Network Analysis in Python\n",
    "\n",
    "## Chapter 1: Bipartite graphs & product recommendation systems\n",
    "Two conditions for defining bipartite graph:\n",
    "* 1. A graph that is partitioned into two sets\n",
    "* 2. nodes are only connected to the nodes in other partitions\n",
    "\n",
    "This is in contrast to the the unipartite graphs (that are not partitioned into two sets) that we have been working so far...\n",
    "\n",
    "Example of bipartite graph:\n",
    "Customers ang Products can be nodes in a graph but partitioned into two sets. Customers are connected to products and vice-versa. But any two customers/products are not connected to each other."
   ]
  },
  {
   "cell_type": "code",
   "execution_count": 42,
   "metadata": {},
   "outputs": [
    {
     "data": {
      "text/plain": [
       "NodeDataView({0: {'bipartite': 'customers'}, 1: {'bipartite': 'customers'}, 2: {'bipartite': 'customers'}, 'a': {'bipartite': 'products'}, 'b': {'bipartite': 'products'}})"
      ]
     },
     "execution_count": 42,
     "metadata": {},
     "output_type": "execute_result"
    }
   ],
   "source": [
    "# How to check the bipartite property: Nodes will have the property key word bipartite. For example:\n",
    "G = nx.Graph()\n",
    "\n",
    "numbers = range(3)\n",
    "G.add_nodes_from(numbers, bipartite = 'customers') # numbers are customers\n",
    "\n",
    "letters = ['a', 'b']\n",
    "G.add_nodes_from(letters, bipartite = 'products') # letters are products\n",
    "\n",
    "G.nodes(data=True)"
   ]
  },
  {
   "cell_type": "code",
   "execution_count": 43,
   "metadata": {},
   "outputs": [
    {
     "data": {
      "text/plain": [
       "[0, 1, 2]"
      ]
     },
     "execution_count": 43,
     "metadata": {},
     "output_type": "execute_result"
    }
   ],
   "source": [
    "# how to do you filter out the partitions: using list comprehension\n",
    "customer_nodes = [n for n, d in G.nodes(data = True) if d['bipartite'] == 'customers']\n",
    "customer_nodes"
   ]
  },
  {
   "cell_type": "code",
   "execution_count": 44,
   "metadata": {},
   "outputs": [
    {
     "data": {
      "text/plain": [
       "[0, 1, 2]"
      ]
     },
     "execution_count": 44,
     "metadata": {},
     "output_type": "execute_result"
    }
   ],
   "source": [
    "# or use this function\n",
    "def get_nodes_from_partition(G,partition):\n",
    "   '''\n",
    "   G: Graph object\n",
    "   partition: String , name of the partition we want info about.\n",
    "   '''\n",
    "   nodes=[n for n,d in G.nodes(data=True) if d['bipartite']==partition]\n",
    "   return nodes   # this contains the node that belong to a particular partition\n",
    "\n",
    "get_nodes_from_partition(G, 'customers')"
   ]
  },
  {
   "cell_type": "code",
   "execution_count": 45,
   "metadata": {},
   "outputs": [],
   "source": [
    "G.add_edge(2,'a')\n",
    "G.add_edge(2,'b')\n",
    "G.add_edge(1,'b')\n",
    "G.add_edge(0,'b')"
   ]
  },
  {
   "cell_type": "code",
   "execution_count": 46,
   "metadata": {},
   "outputs": [
    {
     "data": {
      "image/png": "[encoded data removed]",
      "text/plain": [
       "<Figure size 432x432 with 1 Axes>"
      ]
     },
     "metadata": {
      "needs_background": "light"
     },
     "output_type": "display_data"
    }
   ],
   "source": [
    "cp = nv.CircosPlot(G, node_color='bipartite')\n",
    "cp.draw()\n",
    "plt.show()"
   ]
  },
  {
   "cell_type": "code",
   "execution_count": 47,
   "metadata": {},
   "outputs": [
    {
     "data": {
      "text/plain": [
       "{'b': 1.0, 'a': 0.3333333333333333, 0: 0.5, 1: 0.5, 2: 1.0}"
      ]
     },
     "execution_count": 47,
     "metadata": {},
     "output_type": "execute_result"
    }
   ],
   "source": [
    "# Bipartite Degree Centrality = number of neighbors/number of possible neighbors (in other partition)\n",
    "nx.bipartite.degree_centrality(G, ['a','b']) # 2nd argument is list of nodes from one of the partition\n",
    "# nx.bipartite.degree_centrality(G, customer_nodes) # this will give you same result"
   ]
  },
  {
   "cell_type": "markdown",
   "metadata": {},
   "source": [
    "Note that you don't want regular degree centrality score from nx.degree_centrality(G) here because of the nature (bipartite) of the data."
   ]
  },
  {
   "cell_type": "markdown",
   "metadata": {},
   "source": [
    "#### Recommendation\n",
    "In case of uni-partite graph, the recommendation was based on the neighbor pair of any node n. That is if neighbor pair is not connected then we can recommend this pair to get connected.\n",
    "\n",
    "But in case of bipartite graph, the recommendation is based on how a customer in one partition is not connected to product in other partition. The focus here is on computing customer similarity in bipartite graphs."
   ]
  },
  {
   "cell_type": "code",
   "execution_count": 48,
   "metadata": {},
   "outputs": [
    {
     "name": "stdout",
     "output_type": "stream",
     "text": [
      "1\n"
     ]
    }
   ],
   "source": [
    "def shared_partition_nodes(G, node1, node2):\n",
    "    # Check that the nodes belong to the same partition\n",
    "    assert G.node[node1]['bipartite'] == G.node[node2]['bipartite']\n",
    "\n",
    "    # Get neighbors of node 1: nbrs1\n",
    "    nbrs1 = G.neighbors(node1)\n",
    "    # Get neighbors of node 2: nbrs2\n",
    "    nbrs2 = G.neighbors(node2)\n",
    "\n",
    "    # Compute the overlap using set intersections\n",
    "    overlap = set(nbrs1).intersection(nbrs2)\n",
    "    return overlap\n",
    "\n",
    "# Print the number of shared repositories between users 0 and 1\n",
    "print(len(shared_partition_nodes(G, 0, 1)))"
   ]
  },
  {
   "cell_type": "markdown",
   "metadata": {},
   "source": [
    "##### Customer Similarity Metric = Number of products shared between two customers / total number of products \n",
    "\n",
    "This can then be used to find Customers that are similar to one another."
   ]
  },
  {
   "cell_type": "code",
   "execution_count": 49,
   "metadata": {},
   "outputs": [
    {
     "name": "stdout",
     "output_type": "stream",
     "text": [
      "0.5\n"
     ]
    }
   ],
   "source": [
    "def user_similarity(G, user1, user2, proj_nodes):\n",
    "    # Check that the nodes belong to the 'customers' partition\n",
    "    assert G.node[user1]['bipartite'] == 'customers'\n",
    "    assert G.node[user2]['bipartite'] == 'customers'\n",
    "\n",
    "    # Get the set of nodes shared between the two customers\n",
    "    shared_nodes = shared_partition_nodes(G, user1, user2)\n",
    "\n",
    "    # Return the fraction of nodes in the products partition\n",
    "    return len(shared_nodes) / len(proj_nodes)\n",
    "\n",
    "# Compute the similarity score between customers 0 and 1\n",
    "product_nodes = get_nodes_from_partition(G, 'products')\n",
    "similarity_score = user_similarity(G, 0, 1, product_nodes)\n",
    "\n",
    "print(similarity_score)\n"
   ]
  },
  {
   "cell_type": "markdown",
   "metadata": {},
   "source": [
    "##### Find similar users "
   ]
  },
  {
   "cell_type": "code",
   "execution_count": 50,
   "metadata": {},
   "outputs": [
    {
     "name": "stdout",
     "output_type": "stream",
     "text": [
      "[1, 2]\n"
     ]
    }
   ],
   "source": [
    "from collections import defaultdict\n",
    "\n",
    "def most_similar_users(G, user, user_nodes, proj_nodes):\n",
    "    # Data checks\n",
    "    assert G.node[user]['bipartite'] == 'customers'\n",
    "\n",
    "    # Get other nodes from customer partition\n",
    "    user_nodes = set(user_nodes) \n",
    "    user_nodes.remove(user)\n",
    "\n",
    "    # Create the dictionary: similarities\n",
    "    similarities = defaultdict(list)\n",
    "    for n in user_nodes:\n",
    "        similarity = user_similarity(G, user, n, proj_nodes)\n",
    "        similarities[similarity].append(n)\n",
    "\n",
    "    # Compute maximum similarity score: max_similarity\n",
    "    max_similarity = max(similarities.keys())\n",
    "\n",
    "    # Return list of customer that share maximal similarity\n",
    "    return similarities[max_similarity]\n",
    "\n",
    "customer_nodes = get_nodes_from_partition(G, 'customers')\n",
    "product_nodes = get_nodes_from_partition(G, 'products')\n",
    "\n",
    "print(most_similar_users(G, 0, customer_nodes, product_nodes))\n"
   ]
  },
  {
   "cell_type": "markdown",
   "metadata": {},
   "source": [
    "##### Recommendation\n",
    "You're close to the end! Here, the task is to practice using set differences, and you'll apply it to recommending products from a second customer that the first customer should buy."
   ]
  },
  {
   "cell_type": "code",
   "execution_count": 51,
   "metadata": {},
   "outputs": [
    {
     "name": "stdout",
     "output_type": "stream",
     "text": [
      "{'a'}\n"
     ]
    }
   ],
   "source": [
    "def recommend_products(G, from_user, to_user):\n",
    "    # Get the set of products that from_user has bought\n",
    "    from_product = set(G.neighbors(from_user))\n",
    "    # Get the set of products that to_user has bought\n",
    "    to_product = set(G.neighbors(to_user))\n",
    "\n",
    "    # Identify products that the from_user is connected to that the to_user is not connected to\n",
    "    return from_product.difference(to_product)\n",
    "\n",
    "# Print the products to be recommended\n",
    "print(recommend_products(G, 2, 1))\n"
   ]
  },
  {
   "cell_type": "markdown",
   "metadata": {},
   "source": [
    "## Chapter 2: Graph projections\n",
    "Useful to investigate the relationships between nodes on one partition\n",
    " - conditioned on the connections to the nodes in the other partition"
   ]
  },
  {
   "cell_type": "code",
   "execution_count": 52,
   "metadata": {},
   "outputs": [],
   "source": [
    "# Usage of NetworkX's disk I/O functions\n",
    "# Read in the data\n",
    "G = nx.read_edgelist('sample_data-Copy1.edgelist')\n",
    "# Open the file: 1st entry is name (node in one partition), 2nd is club (node in other partition), 3rd is node property\n",
    "\n",
    "# Assign nodes to 'clubs' or 'people' partitions\n",
    "for n, d in G.nodes(data=True):\n",
    "    if '.' in n:\n",
    "        G.node[n]['bipartite'] = 'people'\n",
    "    else:\n",
    "        G.node[n]['bipartite'] = 'clubs'\n",
    "        \n",
    "# Print the edges of the graph\n",
    "#print(G.edges())"
   ]
  },
  {
   "cell_type": "code",
   "execution_count": 53,
   "metadata": {},
   "outputs": [
    {
     "data": {
      "text/plain": [
       "['TeaParty',\n",
       " 'StAndrewsLodge',\n",
       " 'BostonCommittee',\n",
       " 'NorthCaucus',\n",
       " 'LondonEnemies',\n",
       " 'LongRoomClub',\n",
       " 'LoyalNine']"
      ]
     },
     "execution_count": 53,
     "metadata": {},
     "output_type": "execute_result"
    }
   ],
   "source": [
    "# nodes in clubs partition\n",
    "club_nodes = [n for n, d in list(G.nodes(data=True)) if d['bipartite'] == 'clubs']\n",
    "club_nodes"
   ]
  },
  {
   "cell_type": "markdown",
   "metadata": {},
   "source": [
    "### Computing Projection\n",
    "The \"projection\" of a graph onto one of its partitions is the connectivity of the nodes in that partition conditioned on connections to nodes on the other partition. Made more concretely, you can think of the \"connectivity of customers based on shared purchases\".\n",
    "\n",
    "Command: nx.bipartite.projected_graph(Graph, partition)"
   ]
  },
  {
   "cell_type": "code",
   "execution_count": 54,
   "metadata": {},
   "outputs": [],
   "source": [
    "# Prepare the nodelists needed for computing projections: people, clubs\n",
    "people = [n for n in G.nodes() if G.node[n]['bipartite'] == 'people']\n",
    "clubs = [n for n, d in G.nodes(data=True) if d['bipartite'] == 'clubs']\n",
    "\n",
    "# Compute the people and clubs projections: peopleG, clubsG\n",
    "peopleG = nx.bipartite.projected_graph(G, people)\n",
    "clubsG = nx.bipartite.projected_graph(G, clubs)"
   ]
  },
  {
   "cell_type": "markdown",
   "metadata": {},
   "source": [
    "You can obtain the projected graph as sparse matrix representation from matrix multiplication in the next topic."
   ]
  },
  {
   "cell_type": "code",
   "execution_count": 55,
   "metadata": {},
   "outputs": [
    {
     "data": {
      "image/png": "[encoded data removed]",
      "text/plain": [
       "<Figure size 432x288 with 1 Axes>"
      ]
     },
     "metadata": {
      "needs_background": "light"
     },
     "output_type": "display_data"
    },
    {
     "data": {
      "image/png": "[encoded data removed]",
      "text/plain": [
       "<Figure size 432x288 with 1 Axes>"
      ]
     },
     "metadata": {
      "needs_background": "light"
     },
     "output_type": "display_data"
    }
   ],
   "source": [
    "# Plot the degree centrality distribution of both node partitions from the original graph\n",
    "plt.figure() \n",
    "original_dc = nx.bipartite.degree_centrality(G, people)  \n",
    "plt.hist(list(original_dc.values()), alpha=0.5)\n",
    "plt.yscale('log')\n",
    "plt.title('Bipartite degree centrality (partition - people)')\n",
    "plt.show()\n",
    "\n",
    "\n",
    "# Plot the degree centrality distribution of the peopleG graph\n",
    "plt.figure()\n",
    "people_dc = nx.degree_centrality(peopleG)\n",
    "plt.hist(list(people_dc.values()))\n",
    "plt.yscale('log')\n",
    "plt.title('Bipartite projection degree centrality (partition - people)')\n",
    "plt.show()"
   ]
  },
  {
   "cell_type": "markdown",
   "metadata": {},
   "source": [
    "### Bipartite graphs as matrices\n",
    "\n",
    "- Rows: node on one partition\n",
    "- Columns: node on other partition\n",
    "- Cells: 1 if edge present, else 0\n",
    "\n",
    "Command: mat = nx.bipartite.biadjacency_matrix(G, row_order = one_partition_nodes, columns_order = other_partition_nodes)\n",
    "\n",
    "The result is sparse representation of the matrix.\n",
    "\n",
    "Note that you can get the projection using the adjacency matrix representation of bigraphs. Here is projection calculated visually - \n",
    "<img src = 'Matrix_Projection.png' style = \"width:500px;height:250px\"/>\n",
    "\n",
    "The diagonal tells us the people are connected to how many clubs.\n",
    "\n",
    "<img src = 'Matrix_Projection1.png' style = \"width:500px;height:200px\"/>\n",
    "\n",
    "The off-diagonal tells us how people share the relationship of being connected to a number of clubs. You can relate this to the projection obtained by nx.bipartite.projected_graph(Graph, partition)\n",
    "\n",
    "<img src = 'Matrix_Projection2.png' style = \"width:500px;height:200px\"/>\n",
    "\n",
    "In python, you can get the projecttion = mat @ mat.T (@ operator does the matrix multiplication)"
   ]
  },
  {
   "cell_type": "code",
   "execution_count": 56,
   "metadata": {},
   "outputs": [
    {
     "data": {
      "text/plain": [
       "(<254x254 sparse matrix of type '<class 'numpy.int64'>'\n",
       " \twith 19666 stored elements in Compressed Sparse Row format>,\n",
       " <254x7 sparse matrix of type '<class 'numpy.int64'>'\n",
       " \twith 319 stored elements in Compressed Sparse Row format>)"
      ]
     },
     "execution_count": 56,
     "metadata": {},
     "output_type": "execute_result"
    }
   ],
   "source": [
    "# Get the list of people and list of clubs from the graph: people_nodes, clubs_nodes\n",
    "people_nodes = get_nodes_from_partition(G, 'people')\n",
    "clubs_nodes = get_nodes_from_partition(G, 'clubs')\n",
    "\n",
    "# Compute the biadjacency matrix: bi_matrix\n",
    "bi_matrix = nx.bipartite.biadjacency_matrix(G, row_order=people_nodes, column_order=clubs_nodes)\n",
    "\n",
    "# Compute the user-user projection: user_matrix\n",
    "user_matrix = bi_matrix @ bi_matrix.T\n",
    "\n",
    "user_matrix, bi_matrix"
   ]
  },
  {
   "cell_type": "markdown",
   "metadata": {},
   "source": [
    "#### Find shared membership: Transposition\n",
    "As you may have observed, you lose the metadata from a graph when you go to a sparse matrix representation. You're now going to learn how to impute the metadata back so that you can learn more about shared membership."
   ]
  },
  {
   "cell_type": "code",
   "execution_count": 71,
   "metadata": {
    "collapsed": true,
    "jupyter": {
     "outputs_hidden": true
    }
   },
   "outputs": [
    {
     "name": "stdout",
     "output_type": "stream",
     "text": [
      "Number of clubs: 0\n",
      "People with the most number of memberships:\n",
      "- Bruce.Stephen\n",
      "- Stanbridge.Henry\n",
      "- Appleton.Nathaniel\n",
      "- Bradford.John\n",
      "- Davis.Caleb\n",
      "- Wendell.Oliver\n",
      "- Mackay.William\n",
      "- Sweetser.John\n",
      "- Pierpont.Robert\n",
      "- Otis.James\n",
      "- Boynton.Richard\n",
      "- Greenleaf.William\n",
      "- Warren.Joseph\n",
      "- Barber.Nathaniel\n",
      "- Hill.Alexander\n",
      "- Young.Thomas\n",
      "- Adams.Samuel\n",
      "- Powell.William\n",
      "- Quincy.Josiah\n",
      "- Church.Benjamin\n",
      "- Molineux.William\n",
      "- Greenleaf.Joseph\n",
      "- Dennie.William\n",
      "- Brimmer.Martin\n",
      "- Noyces.Nat\n",
      "- Sigourney.John\n",
      "- Blake.Increase\n",
      "- Emmes.Samuel\n",
      "- Hickling.William\n",
      "- Hitchborn.Thomas\n",
      "- Phillips.Samuel\n",
      "- Fleet.Thomas\n",
      "- Webster.Thomas\n",
      "- Waldo.Benjamin\n",
      "- Whitwell.William\n",
      "- Graham.James\n",
      "- Allen.Dr\n",
      "- Bewer.James\n",
      "- Milliken.Thomas\n",
      "- Symmes.John\n",
      "- Melville.Thomas\n",
      "- Hancock.John\n",
      "- Greenough.Newn\n",
      "- Palfrey.William\n",
      "- Parker.Jonathan\n",
      "- Ruddock.Abiel\n",
      "- Symmes.Eben\n",
      "- Bray.George\n",
      "- Simpson.Benjamin\n",
      "- Grant.Moses\n",
      "- Johnston.Eben\n",
      "- Doyle.Peter\n",
      "- Collson.Adam\n",
      "- Bolter.Thomas\n",
      "- Loring.Matthew\n",
      "- Story.Elisha\n",
      "- Baldwin.Cyrus\n",
      "- Brown.Hugh\n",
      "- Collier.Gershom\n",
      "- Chipman.Seth\n",
      "- Pitts.Lendall\n",
      "- Williams.Thomas\n",
      "- Slater.Peter\n",
      "- Cailleteau.Edward\n",
      "- Ballard.John\n",
      "- Peters.John\n",
      "- MacKintosh.Capt\n",
      "- Broomfield.Henry\n",
      "- Cheever.Ezekiel\n",
      "- Whitwell.Samuel\n",
      "- Urann.Thomas\n",
      "- Jarvis.Charles\n",
      "- Marson.John\n",
      "- Prince.John\n",
      "- Bradlee.Nathaniel\n",
      "- Crafts.Thomas\n",
      "- Hoskins.William\n",
      "- Burbeck.Edward\n",
      "- Shed.Joseph\n",
      "- Dexter.Samuel\n",
      "- Tileston.Thomas\n",
      "- Welles.Henry\n",
      "- Phillips.William\n",
      "- Chase.Thomas\n",
      "- Peck.Thomas\n",
      "- Bell.William\n",
      "- Breck.William\n",
      "- Starr.James\n",
      "- Spurr.John\n",
      "- Brackett.Jos\n",
      "- Hopkins.Caleb\n",
      "- Howe.Edward\n",
      "- Fenno.Samuel\n",
      "- Morton.Perez\n",
      "- Kerr.Walter\n",
      "- Sprague.Samuel\n",
      "- Potter.Edward\n",
      "- Stoddard.Asa\n",
      "- Spear.Thomas\n",
      "- Isaac.Pierce\n",
      "- Russell.William\n",
      "- Randall.John\n",
      "- Obear.Israel\n",
      "- Ivers.James\n",
      "- Lewis.Phillip\n",
      "- Parkman.Elias\n",
      "- Proctor.Edward\n",
      "- Peck.Samuel\n",
      "- Hicks.John\n",
      "- Hunt.Abraham\n",
      "- Prince.Job\n",
      "- Ferrell.Ambrose\n",
      "- Cazneau.Capt\n",
      "- Hooton.John\n",
      "- Kent.Benjamin\n",
      "- Eckley.Unknown\n",
      "- Cooper.Samuel\n",
      "- Cooper.William\n",
      "- Davis.Edward\n",
      "- Davis.William\n",
      "- Gore.Samuel\n",
      "- Cochran.John\n",
      "- Gill.Moses\n",
      "- Hunnewell.Jonathan\n",
      "- Wheeler.Josiah\n",
      "- Hunnewell.Richard\n",
      "- May.John\n",
      "- Ash.Gilbert\n",
      "- Hewes.George\n",
      "- Foster.Bos\n",
      "- Whitten.John\n",
      "- Willis.Nathaniel\n",
      "- Hoffins.John\n",
      "- Purkitt.Henry\n",
      "- Deshon.Moses\n",
      "- Morse.Anthony\n",
      "- Boyer.Peter\n",
      "- Wingfield.William\n",
      "- Revere.Paul\n",
      "- Jenkins.John\n",
      "- Sessions.Robert\n",
      "- Phillips.John\n",
      "- Avery.John\n",
      "- Tyler.Royall\n",
      "- Pierce.William\n",
      "- Adams.John\n",
      "- Mountford.Joseph\n",
      "- Burbeck.William\n",
      "- Frothingham.Nathaniel\n",
      "- Williams.Jeremiah\n",
      "- Dolbear.Edward\n",
      "- Palmer.Joseph\n",
      "- Brown.John\n",
      "- Vernon.Fortesque\n",
      "- Condy.JamesFoster\n",
      "- Marshall.Thomas\n",
      "- Williams.Jonathan\n",
      "- Pulling.John\n",
      "- Pitts.Samuel\n",
      "- Barrett.Samuel\n",
      "- Roylson.Thomas\n",
      "- Austin.Benjamin\n",
      "- Mason.Jonathan\n",
      "- Bass.Henry\n",
      "- Hancock.Eben\n",
      "- Winthrop.John\n",
      "- Pitts.John\n",
      "- Partridge.Sam\n",
      "- Brown.Enoch\n",
      "- Brimmer.Herman\n",
      "- Eayres.Joseph\n",
      "- Austin.Samuel\n",
      "- McAlpine.William\n",
      "- Gray.Wait\n",
      "- Hendley.William\n",
      "- Wyeth.Joshua\n",
      "- Newell.Eliphelet\n",
      "- Eaton.Joseph\n",
      "- Burt.Benjamin\n",
      "- Prentiss.Henry\n",
      "- Smith.John\n",
      "- Lambert.John\n",
      "- Ingersoll.Daniel\n",
      "- Hammond.Samuel\n",
      "- Clarke.Benjamin\n",
      "- Jefferds.Unknown\n",
      "- Gould.William\n",
      "- Edes.Benjamin\n",
      "- Howard.Samuel\n",
      "- Gammell.John\n",
      "- MacNeil.Archibald\n",
      "- Champney.Caleb\n",
      "- Crane.John\n",
      "- Field.Joseph\n",
      "- Trott.George\n",
      "- Cleverly.Stephen\n",
      "- Boit.John\n",
      "- Winslow.John\n",
      "- Dawes.Thomas\n",
      "- Stoddard.Jonathan\n",
      "- Callendar.Elisha\n",
      "- Seward.James\n",
      "- Jarvis.Edward\n",
      "- Webb.Joseph\n",
      "- Flagg.Josiah\n",
      "- Moody.Samuel\n",
      "- Tabor.Philip\n",
      "- Hunstable.Thomas\n",
      "- Kinnison.David\n",
      "- Russell.John\n",
      "- Moore.Thomas\n",
      "- Bradlee.David\n",
      "- Stearns.Phineas\n",
      "- Payson.Joseph\n",
      "- Colesworthy.Gilbert\n",
      "- Etheridge.William\n",
      "- Barnard.Samuel\n",
      "- Stevens.Ebenezer\n",
      "- Davis.Robert\n",
      "- Greene.Nathaniel\n",
      "- Bradlee.Thomas\n",
      "- Roby.Joseph\n",
      "- Lincoln.Amos\n",
      "- Swan.James\n",
      "- Machin.Thomas\n",
      "- Bradlee.Josiah\n",
      "- Foster.Samuel\n",
      "- Burton.Benjamin\n",
      "- Porter.Thomas\n",
      "- Lee.Joseph\n",
      "- Campbell.Nicholas\n",
      "- Hobbs.Samuel\n",
      "- Pearce.IsaacJun\n",
      "- Merrit.John\n",
      "- White.Samuel\n",
      "- Matchett.John\n",
      "- Collins.Ezra\n",
      "- Kimball.Thomas\n",
      "- Holmes.Nathaniel\n",
      "- Pearce.Isaac\n",
      "- Nicholls.Unknown\n",
      "- Chrysty.Thomas\n",
      "- Pulling.Richard\n",
      "- Ham.William\n",
      "- Lowell.John\n",
      "- Palms.Richard\n",
      "- Marlton.John\n",
      "- Sharp.Gibbens\n",
      "- Sloper.Ambrose\n",
      "- Marett.Phillip\n",
      "- Hitchborn.Nathaniel\n",
      "- Inglish.Alexander\n",
      "- Johonnott.Gabriel\n",
      "- Chadwell.Mr\n",
      "People with most number of shared memberships:\n",
      "- Warren.Joseph, Church.Benjamin\n",
      "- Warren.Joseph, Adams.Samuel\n",
      "- Warren.Joseph, Revere.Paul\n",
      "- Adams.Samuel, Church.Benjamin\n",
      "- Adams.Samuel, Warren.Joseph\n",
      "- Church.Benjamin, Adams.Samuel\n",
      "- Church.Benjamin, Warren.Joseph\n",
      "- Chase.Thomas, Bass.Henry\n",
      "- Revere.Paul, Warren.Joseph\n",
      "- Bass.Henry, Chase.Thomas\n"
     ]
    }
   ],
   "source": [
    "import numpy as np \n",
    "\n",
    "# Find out the names of people who were members of the most number of clubs\n",
    "diag = user_matrix.diagonal()             \n",
    "indices = np.where(diag == diag.max())[0]\n",
    "print('Number of clubs: {0}'.format(diag.max()))\n",
    "print('People with the most number of memberships:')\n",
    "for i in indices:\n",
    "    print('- {0}'.format(people_nodes[i]))  \n",
    "\n",
    "# Set the diagonal to zero and convert it to a coordinate matrix format\n",
    "user_matrix.setdiag(0)\n",
    "users_coo = user_matrix.tocoo()\n",
    "\n",
    "# Find pairs of users who shared membership in the most number of clubs\n",
    "indices2 = np.where(users_coo.data == users_coo.data.max())[0] \n",
    "\n",
    "print('People with most number of shared memberships:')\n",
    "for idx in indices2:\n",
    "    print('- {0}, {1}'.format(people_nodes[users_coo.row[idx]], people_nodes[users_coo.col[idx]])) "
   ]
  },
  {
   "cell_type": "markdown",
   "metadata": {},
   "source": [
    "#### Representing Network Data with Pandas: make nodelist and edgelist"
   ]
  },
  {
   "cell_type": "code",
   "execution_count": 85,
   "metadata": {},
   "outputs": [
    {
     "name": "stdout",
     "output_type": "stream",
     "text": [
      "               name bipartite\n",
      "0     Bruce.Stephen    people\n",
      "1          TeaParty     clubs\n",
      "2  Stanbridge.Henry    people\n",
      "3    StAndrewsLodge     clubs\n",
      "4   BostonCommittee     clubs\n"
     ]
    }
   ],
   "source": [
    "# Initialize a list to store each edge as a record: nodelist\n",
    "import pandas as pd\n",
    "nodelist = []\n",
    "for n, d in G.nodes(data=True):\n",
    "    # nodeinfo stores one \"record\" of data as a dict\n",
    "    nodeinfo = {'name': n} \n",
    "    \n",
    "    # Update the nodeinfo dictionary \n",
    "    nodeinfo.update(d)\n",
    "    \n",
    "    # Append the nodeinfo to the node list\n",
    "    nodelist.append(nodeinfo)\n",
    "    \n",
    "\n",
    "# Create a pandas DataFrame of the nodelist: node_df\n",
    "node_df = pd.DataFrame(nodelist)\n",
    "print(node_df.head())\n"
   ]
  },
  {
   "cell_type": "code",
   "execution_count": 86,
   "metadata": {},
   "outputs": [
    {
     "name": "stdout",
     "output_type": "stream",
     "text": [
      "           node1            node2  weight\n",
      "0  Bruce.Stephen         TeaParty       1\n",
      "1       TeaParty     Young.Thomas       1\n",
      "2       TeaParty      Bewer.James       1\n",
      "3       TeaParty  Melville.Thomas       1\n",
      "4       TeaParty  Parker.Jonathan       1\n"
     ]
    }
   ],
   "source": [
    "# Initialize a list to store each edge as a record: edgelist\n",
    "edgelist = []\n",
    "for n1, n2, d in G.edges(data=True):\n",
    "    # Initialize a dictionary that shows edge information: edgeinfo\n",
    "    edgeinfo = {'node1':n1, 'node2':n2}\n",
    "    \n",
    "    # Update the edgeinfo data with the edge metadata\n",
    "    edgeinfo.update(d)\n",
    "    \n",
    "    # Append the edgeinfo to the edgelist\n",
    "    edgelist.append(edgeinfo)\n",
    "    \n",
    "# Create a pandas DataFrame of the edgelist: edge_df\n",
    "edge_df = pd.DataFrame(edgelist)\n",
    "print(edge_df.head())"
   ]
  },
  {
   "cell_type": "markdown",
   "metadata": {},
   "source": [
    "## Chapter 3: Graph Differences\n",
    "\n",
    "#### Evolving Graphs: that change over time e.g. communication networks\n",
    "\n",
    "Assumptions:\n",
    "* 1. edges change over time, assume nodes stay constant (easier to analyze)\n",
    "* 2. both edges and nodes changes over time\n",
    "\n",
    "Let's assume the 1st case where nodes remain constant. In that case, we can use nx.difference(G2, G1) that tells us what are extra edges in G2 that are not present in G1. This is analogous to set {} difference like = set(edges of G2).difference(set(edges of G1))"
   ]
  },
  {
   "cell_type": "markdown",
   "metadata": {},
   "source": [
    "#### Evolving Graph Statistics\n",
    "* Number of nodes\n",
    "* Number of edges\n",
    "* Degree distribution\n",
    "* Centrality distribution"
   ]
  },
  {
   "cell_type": "markdown",
   "metadata": {},
   "source": [
    "## Graph Algorithm - Practical Examples in Apache Spark and Neo4j\n",
    "Notes\n",
    "### Chapter 3: Graph Platform & Processing\n",
    "#### Platform Consideration\n",
    "There’s debate as to whether it’s better to scale up or scale out graph processing. Should you use powerful multicore, large-memory machines and focus on efficient data structures and multithreaded algorithms?\n",
    "\n",
    "#### Processing Consideration\n",
    "There are different approaches for expressing data processing; for example, stream or batch processing or the map-reduce paradigm for records-based data. However, for graph data, there also exist approaches which incorporate the data dependencies inherent in graph structures into their processing:\n",
    "##### Node-centric\n",
    "This approach uses nodes as processing units, having them accumulate and com‐ pute state and communicate state changes via messages to their neighbors. This model uses the provided transformation functions for more straightforward implementations of each algorithm.\n",
    "##### Relationship-centric\n",
    "This approach has similarities with the node-centric model but may perform bet‐ ter for subgraph and sequential analysis.\n",
    "##### Graph-centric\n",
    "These models process nodes within a subgraph independently of other subgraphs while (minimal) communication to other subgraphs happens via messaging.\n",
    "##### Traversal-centric\n",
    "These models use the accumulation of data by the traverser while navigating the graph as their means of computation.\n",
    "##### Algorithm-centric\n",
    "These approaches use various methods to optimize implementations per algo‐ rithm. This is a hybrid of the previous models.\n",
    "\n",
    "TIP: Pregel is a node-centric, fault-tolerant parallel processing frame‐ work created by Google for performant analysis of large graphs. Pregel is based on the bulk synchronous parallel (BSP) model. BSP simplifies parallel programming by having distinct computation and communication phases.\n",
    "\n",
    "#### Representative Platforms\n",
    "To address the requirements of graph processing, several platforms have emerged. Traditionally there was a separation between graph compute engines and graph data‐ bases, which required users to move their data depending on their process needs:\n",
    "##### Graph compute engines\n",
    "These are read-only, nontransactional engines that focus on efficient execution of iterative graph analytics and queries of the whole graph. Graph compute engines support different definition and processing paradigms for graph algorithms, like node-centric (e.g., Pregel, Gather-Apply-Scatter) or MapReduce-based approaches (e.g., PACT). Examples of such engines are Giraph, GraphLab, Graph-Engine, and Apache Spark.\n",
    "##### Graph databases\n",
    "From a transactional background, these focus on fast writes and reads using smaller queries that generally touch a small fraction of a graph. Their strengths are in operational robustness and high concurrent scalability for many users.\n",
    "\n",
    "TIP: \n",
    "* Spark is an example of a scale-out and node-centric graph compute engine.\n",
    "    * Two dataframes - node (unique id and properties) and relationship (source node, destination node, weight etc...)\n",
    "* The Neo4j Graph Platform is an example of a tightly integrated graph database and algorithm-centric processing, optimized for graphs. \n",
    "    * Query language Cypher (declarative). Neo4j Graph Algorithms library is installed as a plug-in alongside the database and provides a set of user-defined proce‐ dures that can be executed via the Cypher query language. The graph algorithm library includes parallel versions of algorithms supporting graph analytics and machine learning workflows. Neo4j Awesome Procedures on Cypher (APOC) library consists of more than 450 proce‐ dures and functions to help with common tasks such as data inte‐ gration, data conversion, and model refactoring."
   ]
  },
  {
   "cell_type": "code",
   "execution_count": null,
   "metadata": {},
   "outputs": [],
   "source": []
  }
 ],
 "metadata": {
  "kernelspec": {
   "display_name": "Python 3",
   "language": "python",
   "name": "python3"
  },
  "language_info": {
   "codemirror_mode": {
    "name": "ipython",
    "version": 3
   },
   "file_extension": ".py",
   "mimetype": "text/x-python",
   "name": "python",
   "nbconvert_exporter": "python",
   "pygments_lexer": "ipython3",
   "version": "3.7.4"
  }
 },
 "nbformat": 4,
 "nbformat_minor": 4
}
